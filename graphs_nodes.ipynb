{
 "cells": [
  {
   "attachments": {},
   "cell_type": "markdown",
   "metadata": {},
   "source": [
    "<img src=\"DFS_exercise.png\" alt=\"exrecise\" width=\"691\" height=\"391\">"
   ]
  },
  {
   "attachments": {},
   "cell_type": "markdown",
   "metadata": {},
   "source": [
    "Pushing in alphabetical order:\n",
    "|step1|step2|step3|step4|step5|step6|step7|\n",
    "|-----|-----|-----|-----|-----|-----|-----|\n",
    "|     |     |     |     |     |     |     |\n",
    "|     |     |     |     |  P  |  Z  |  found it   |\n",
    "|     |     |  L  |  O  |  N  |  N  |  N  |\n",
    "|     |     |  D  |  K  |  K  |  K  |  K  |\n",
    "|  A  |  B  |  C  |  C  |  C  |  C  |  C  |\n"
   ]
  },
  {
   "attachments": {},
   "cell_type": "markdown",
   "metadata": {},
   "source": [
    "Pushing into the stack in reverse alphabetical order:\n",
    "\n",
    "|step1|step2|step3|step4|step5|step6|step7|step8|step9|step10|step11|\n",
    "|-----|-----|-----|-----|-----|-----|-----|-----|-----|------|------|\n",
    "|     |     |     |     |     |     |     |     |     |      |      |\n",
    "|     |     |     |  F  |     |     |     |     |     |      |      |\n",
    "|     |     |     |  J  |  J  |  R  |     |     |     |      |      |\n",
    "|     |     |  C  |  M  |  M  |  M  |  K  |  N  |  Q  |      |      |\n",
    "|     |     |  D  |  D  |  D  |  D  |  O  |  P  |  P  |   Z  |found it|\n",
    "|  A  |  B  |  L  |  L  |  L  |  L  |  L  |  L  |  L  |   L  |  L   |\n"
   ]
  },
  {
   "cell_type": "markdown",
   "metadata": {},
   "source": []
  }
 ],
 "metadata": {
  "kernelspec": {
   "display_name": "venv_data_science",
   "language": "python",
   "name": "python3"
  },
  "language_info": {
   "name": "python",
   "version": "3.10.10"
  },
  "orig_nbformat": 4,
  "vscode": {
   "interpreter": {
    "hash": "03a634e9e98b7cf19536083b730b9bcb8557c3d4281cc8ceb3cbd4e1b771551c"
   }
  }
 },
 "nbformat": 4,
 "nbformat_minor": 2
}
