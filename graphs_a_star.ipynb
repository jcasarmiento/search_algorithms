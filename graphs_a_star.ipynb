{
 "cells": [
  {
   "attachments": {},
   "cell_type": "markdown",
   "metadata": {},
   "source": [
    "<img src=\"A_Star1.png\" alt=\"exrecise\" width=\"691\" height=\"391\">"
   ]
  },
  {
   "attachments": {},
   "cell_type": "markdown",
   "metadata": {},
   "source": [
    "```\n",
    "A=20\n",
    "\n",
    "AC=8,AB=5   -->  AB=5,AC=8\n",
    "\n",
    "AC=8,ABL=13\n",
    "\n",
    "ABL=13,ACF=12,ACM=12,ACJ=13   -->  ACF=12,ACM=12,ABL=13,ACJ=13\n",
    "\n",
    "ACM=12,ABL=13,ACJ=13,ACFM=11   -->  ACFM=11,ACM=12,ABL=13,ACJ=13\n",
    "\n",
    "ACM=12,ABL=13,ACJ=13\n",
    "\n",
    "ABL=13,ACJ=13\n",
    "\n",
    "ACJ=13\n",
    "+-------+\n",
    "|ACJR=10|\n",
    "+-------+\n",
    "\n",
    "```"
   ]
  },
  {
   "attachments": {},
   "cell_type": "markdown",
   "metadata": {},
   "source": [
    "<img src=\"A_Star2.png\" alt=\"exrecise\" width=\"691\" height=\"391\">"
   ]
  },
  {
   "attachments": {},
   "cell_type": "markdown",
   "metadata": {},
   "source": [
    "```\n",
    "A=20\n",
    "\n",
    "AB=27,AC=21,AD=23   -->  AC=21,AD=23,AB=27\n",
    "\n",
    "AD=23,AB=27,ACE=21,ACF=12   -->  ACF=12,ACE=21,AD=23,AB=27\n",
    "\n",
    "ACE=21,AD=23,AB=27,ACFL=17   -->  ACFL=17,ACE=21,AD=23,AB=27\n",
    "                                   +--------+\n",
    "ACE=21,AD=23,AB=27,ACFLZ=16   -->  |ACFLZ=16|,ACE=21,AD=23,AB=27\n",
    "                                   +--------+\n",
    "ACE=21,AD=23,AB=27\n",
    "                                           +-------+\n",
    "AD=23,AB=27,ACEJ=19,ACEZ=15,ACEL=16   -->  |ACEZ=15|,ACEL=16,ACEJ=19,AD=23,AB=27\n",
    "                                           +-------+\n",
    "ACEL=16,ACEJ=19,AD=23,AB=27\n",
    "                                    +--------+\n",
    "ACEJ=19,AD=23,AB=27,ACELZ=15   -->  |ACELZ=15|,ACEJ=19,AD=23,AB=27\n",
    "                                    +--------+\n",
    "ACEJ=19,AD=23,AB=27\n",
    "                            +--------+\n",
    "AD=23,AB=27,ACEJZ=20   -->  |ACEJZ=20|,AD=23,AB=27\n",
    "                            +--------+\n",
    "AD=23,AB=27\n",
    "\n",
    "AB=27,ADI=16,ADE=15   -->  ADE=15,ADI=16,AB=27\n",
    "                                            +-------+\n",
    "ADI=16,AB=27,ADEJ=17,ADEZ=13,ADEL=14   -->  |ADEZ=13|,ADEL=14,ADEJ=17,ADI=16,AB=27\n",
    "                                            +-------+\n",
    "ADEL=14,ADEJ=17,ADI=16,AB=27\n",
    "                                     +--------+\n",
    "ADEJ=17,ADI=16,AB=27,ADELZ=13   -->  |ADELZ=13|,ADI=16,ADEJ=17,AB=27\n",
    "                                     +--------+\n",
    "ADI=16,ADEJ=17,AB=27\n",
    "\n",
    "ADEJ=17,AB=27,ADIJ=20   -->  ADEJ=17,ADIJ=20,AB=27\n",
    "                              +--------+\n",
    "ADIJ=20,AB=27,ADEJZ=13   -->  |ADEJZ=13|,ADIJ=20,AB=27\n",
    "                              +--------+\n",
    "ADIJ=20,AB=27\n",
    "                      +--------+\n",
    "AB=27,ADIJZ=21   -->  |ADIJZ=21|,AB=27\n",
    "                      +--------+\n",
    "AB=27\n",
    "\n",
    "ABF=20,ABK=16   -->  ABK=16,ABF=20\n",
    "\n",
    "ABF=20,ABKL=12   -->  ABKL=12,ABF=20\n",
    "                       +--------+\n",
    "ABF=20,ABKLZ=13   -->  |ABKLZ=13|,ABF=20\n",
    "                       +--------+\n",
    "ABF=20\n",
    "\n",
    "ABFL=25\n",
    "+--------+\n",
    "|ABFLZ=24|\n",
    "+--------+\n",
    "\n",
    "\n",
    "\n",
    "PATHS=[ACFLZ=16,ACEZ=15,ACELZ=15,ACEJZ=20,ADEZ=13,ADELZ=13,ADEJZ=13,ADIJZ=21,ABKLZ=13,ABFLZ=24]\n",
    "\n",
    "SHORTEST=[ABKLZ=13,ADEZ=13,ADELZ=13,ADEJZ=13]\n",
    "```"
   ]
  }
 ],
 "metadata": {
  "kernelspec": {
   "display_name": "Python 3",
   "language": "python",
   "name": "python3"
  },
  "language_info": {
   "name": "python",
   "version": "3.10.10"
  },
  "orig_nbformat": 4,
  "vscode": {
   "interpreter": {
    "hash": "112ed91ee98a6989d9d7e71eb977853a7d8456dc33f96bdb50f97ad343938d3e"
   }
  }
 },
 "nbformat": 4,
 "nbformat_minor": 2
}
